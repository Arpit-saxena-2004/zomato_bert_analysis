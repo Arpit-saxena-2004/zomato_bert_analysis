{
 "cells": [
  {
   "cell_type": "code",
   "execution_count": 1,
   "id": "087460c5-486d-4a4c-8a6c-ddcb06b1a9e5",
   "metadata": {},
   "outputs": [],
   "source": [
    "#google-play-scraper==1.2.7\n",
    "#pandas==2.3.1"
   ]
  },
  {
   "cell_type": "code",
   "execution_count": 2,
   "id": "2f58746f-ee9e-4f9f-8da6-a8afb08fbcc9",
   "metadata": {},
   "outputs": [],
   "source": [
    "#importing libs\n",
    "from google_play_scraper import reviews_all\n",
    "import pandas as pd"
   ]
  },
  {
   "cell_type": "code",
   "execution_count": 3,
   "id": "10e4d191-26f8-488b-be88-d89d3f464b41",
   "metadata": {},
   "outputs": [
    {
     "name": "stdout",
     "output_type": "stream",
     "text": [
      "Starting to fetch reviews for com.application.zomato...\n"
     ]
    }
   ],
   "source": [
    "APP_ID = 'com.application.zomato' \n",
    "\n",
    "print(f\"Starting to fetch reviews for {APP_ID}...\")"
   ]
  },
  {
   "cell_type": "code",
   "execution_count": 4,
   "id": "20e966c1-31cd-40bc-9fee-586a7d293cf1",
   "metadata": {},
   "outputs": [
    {
     "name": "stdout",
     "output_type": "stream",
     "text": [
      "Fetched 405000 reviews.\n"
     ]
    }
   ],
   "source": [
    "result = reviews_all(\n",
    "    APP_ID,\n",
    "    sleep_milliseconds=0, \n",
    "    lang='en',            \n",
    "    country='in',          \n",
    "    count=7000\n",
    ")\n",
    "\n",
    "print(f\"Fetched {len(result)} reviews.\")"
   ]
  },
  {
   "cell_type": "code",
   "execution_count": 5,
   "id": "43f8bbac-13e3-4153-b7aa-7ba15aec5dfd",
   "metadata": {},
   "outputs": [
    {
     "name": "stdout",
     "output_type": "stream",
     "text": [
      "Successfully saved a sample of reviews to com.application.zomato_reviews_sample.csv\n"
     ]
    }
   ],
   "source": [
    "df = pd.DataFrame(result)\n",
    "df = df[['userName', 'content', 'score', 'at']]\n",
    "df.rename(columns={'at': 'date', 'score': 'rating', 'content': 'review'}, inplace=True)\n",
    "\n",
    "output_file = f'{APP_ID}_reviews_sample.csv'\n",
    "df.to_csv(output_file, index=False)\n",
    "\n",
    "print(f\"Successfully saved a sample of reviews to {output_file}\")"
   ]
  },
  {
   "cell_type": "code",
   "execution_count": 6,
   "id": "42234d17-3639-4903-88b1-ea152e179774",
   "metadata": {},
   "outputs": [
    {
     "data": {
      "text/html": [
       "<div>\n",
       "<style scoped>\n",
       "    .dataframe tbody tr th:only-of-type {\n",
       "        vertical-align: middle;\n",
       "    }\n",
       "\n",
       "    .dataframe tbody tr th {\n",
       "        vertical-align: top;\n",
       "    }\n",
       "\n",
       "    .dataframe thead th {\n",
       "        text-align: right;\n",
       "    }\n",
       "</style>\n",
       "<table border=\"1\" class=\"dataframe\">\n",
       "  <thead>\n",
       "    <tr style=\"text-align: right;\">\n",
       "      <th></th>\n",
       "      <th>userName</th>\n",
       "      <th>review</th>\n",
       "      <th>rating</th>\n",
       "      <th>date</th>\n",
       "    </tr>\n",
       "  </thead>\n",
       "  <tbody>\n",
       "    <tr>\n",
       "      <th>0</th>\n",
       "      <td>A Google user</td>\n",
       "      <td>comes on time</td>\n",
       "      <td>5</td>\n",
       "      <td>2025-10-03 13:47:17</td>\n",
       "    </tr>\n",
       "    <tr>\n",
       "      <th>1</th>\n",
       "      <td>A Google user</td>\n",
       "      <td>it's amazing</td>\n",
       "      <td>5</td>\n",
       "      <td>2025-10-03 13:46:50</td>\n",
       "    </tr>\n",
       "    <tr>\n",
       "      <th>2</th>\n",
       "      <td>A Google user</td>\n",
       "      <td>nice</td>\n",
       "      <td>5</td>\n",
       "      <td>2025-10-03 13:46:23</td>\n",
       "    </tr>\n",
       "    <tr>\n",
       "      <th>3</th>\n",
       "      <td>A Google user</td>\n",
       "      <td>correct time delivery... food taste all hotels...</td>\n",
       "      <td>5</td>\n",
       "      <td>2025-10-03 13:46:00</td>\n",
       "    </tr>\n",
       "    <tr>\n",
       "      <th>4</th>\n",
       "      <td>A Google user</td>\n",
       "      <td>i mean ,, its good , when your hunger is on pe...</td>\n",
       "      <td>4</td>\n",
       "      <td>2025-10-03 13:44:39</td>\n",
       "    </tr>\n",
       "  </tbody>\n",
       "</table>\n",
       "</div>"
      ],
      "text/plain": [
       "        userName                                             review  rating  \\\n",
       "0  A Google user                                      comes on time       5   \n",
       "1  A Google user                                       it's amazing       5   \n",
       "2  A Google user                                               nice       5   \n",
       "3  A Google user  correct time delivery... food taste all hotels...       5   \n",
       "4  A Google user  i mean ,, its good , when your hunger is on pe...       4   \n",
       "\n",
       "                  date  \n",
       "0  2025-10-03 13:47:17  \n",
       "1  2025-10-03 13:46:50  \n",
       "2  2025-10-03 13:46:23  \n",
       "3  2025-10-03 13:46:00  \n",
       "4  2025-10-03 13:44:39  "
      ]
     },
     "execution_count": 6,
     "metadata": {},
     "output_type": "execute_result"
    }
   ],
   "source": [
    "df=pd.read_csv(\"zomato.csv\")\n",
    "df.head()"
   ]
  },
  {
   "cell_type": "code",
   "execution_count": 7,
   "id": "92bd1040-d6d9-4ac6-882a-006113c05bed",
   "metadata": {},
   "outputs": [],
   "source": [
    "df_20k=df.head(200000)"
   ]
  },
  {
   "cell_type": "code",
   "execution_count": 13,
   "id": "343e2bd1-143e-4186-9d75-457dc9f64a82",
   "metadata": {},
   "outputs": [],
   "source": [
    "df_20k.to_csv(\"zomato20k.csv\",index=False)"
   ]
  },
  {
   "cell_type": "code",
   "execution_count": 15,
   "id": "185df9fd-ae0f-4bdc-b018-4ab9301f2c62",
   "metadata": {},
   "outputs": [],
   "source": []
  },
  {
   "cell_type": "code",
   "execution_count": null,
   "id": "79ee763b-51b4-4b96-925a-c1e3c76b1cfe",
   "metadata": {},
   "outputs": [],
   "source": []
  }
 ],
 "metadata": {
  "kernelspec": {
   "display_name": "Python 3 (ipykernel)",
   "language": "python",
   "name": "python3"
  },
  "language_info": {
   "codemirror_mode": {
    "name": "ipython",
    "version": 3
   },
   "file_extension": ".py",
   "mimetype": "text/x-python",
   "name": "python",
   "nbconvert_exporter": "python",
   "pygments_lexer": "ipython3",
   "version": "3.10.13"
  }
 },
 "nbformat": 4,
 "nbformat_minor": 5
}
